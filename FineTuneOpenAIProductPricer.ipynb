{
 "cells": [
  {
   "cell_type": "code",
   "execution_count": 2,
   "metadata": {},
   "outputs": [],
   "source": [
    "# imports\n",
    "\n",
    "import os\n",
    "import re\n",
    "import math\n",
    "import json\n",
    "import random\n",
    "from dotenv import load_dotenv\n",
    "from huggingface_hub import login\n",
    "from helpers.items import Item\n",
    "import matplotlib.pyplot as plt\n",
    "import numpy as np\n",
    "import pickle\n",
    "from collections import Counter\n",
    "from openai import OpenAI\n",
    "from anthropic import Anthropic"
   ]
  },
  {
   "cell_type": "code",
   "execution_count": 3,
   "metadata": {},
   "outputs": [],
   "source": [
    "# moved our Tester into a separate package\n",
    "# call it with Tester.test(function_name, test_dataset)\n",
    "\n",
    "from helpers.testing import Tester"
   ]
  },
  {
   "cell_type": "code",
   "execution_count": 4,
   "metadata": {},
   "outputs": [],
   "source": [
    "# environment\n",
    "\n",
    "load_dotenv()\n",
    "os.environ['OPENAI_API_KEY'] = os.getenv('OPENAI_API_KEY', 'your-key-if-not-using-env')\n",
    "os.environ['ANTHROPIC_API_KEY'] = os.getenv('ANTHROPIC_API_KEY', 'your-key-if-not-using-env')\n",
    "os.environ['HF_TOKEN'] = os.getenv('HF_TOKEN', 'your-key-if-not-using-env')"
   ]
  },
  {
   "cell_type": "code",
   "execution_count": 5,
   "metadata": {},
   "outputs": [],
   "source": [
    "openai = OpenAI()"
   ]
  },
  {
   "cell_type": "code",
   "execution_count": 6,
   "metadata": {},
   "outputs": [],
   "source": [
    "%matplotlib inline"
   ]
  },
  {
   "cell_type": "code",
   "execution_count": 7,
   "metadata": {},
   "outputs": [],
   "source": [
    "# Let's avoid curating all our data again! Load in the pickle files:\n",
    "\n",
    "with open('train.pkl', 'rb') as file:\n",
    "    train = pickle.load(file)\n",
    "\n",
    "with open('test.pkl', 'rb') as file:\n",
    "    test = pickle.load(file)"
   ]
  },
  {
   "cell_type": "code",
   "execution_count": 8,
   "metadata": {},
   "outputs": [],
   "source": [
    "# OpenAI recommends fine-tuning with populations of 50-100 examples\n",
    "# But as our examples are very small, I'm suggesting we go with 200 examples (and 1 epoch)\n",
    "\n",
    "fine_tune_train = train[:200]\n",
    "fine_tune_validation = train[200:250]"
   ]
  },
  {
   "cell_type": "markdown",
   "metadata": {},
   "source": [
    "Step 1\n",
    "\n",
    "Prepare our data for fine-tuning in JSONL (JSON Lines) format and upload to OpenAI\n"
   ]
  },
  {
   "cell_type": "code",
   "execution_count": 9,
   "metadata": {},
   "outputs": [],
   "source": [
    "# First let's work on a good prompt for a Frontier model\n",
    "# Notice that I'm removing the \" to the nearest dollar\"\n",
    "# When we train our own models, we'll need to make the problem as easy as possible, \n",
    "# but a Frontier model needs no such simplification.\n",
    "\n",
    "def messages_for(item):\n",
    "    system_message = \"You estimate prices of items. Reply only with the price, no explanation\"\n",
    "    user_prompt = item.test_prompt().replace(\" to the nearest dollar\",\"\").replace(\"\\n\\nPrice is $\",\"\")\n",
    "    return [\n",
    "        {\"role\": \"system\", \"content\": system_message},\n",
    "        {\"role\": \"user\", \"content\": user_prompt},\n",
    "        {\"role\": \"assistant\", \"content\": f\"Price is ${item.price:.2f}\"}\n",
    "    ]"
   ]
  },
  {
   "cell_type": "code",
   "execution_count": 10,
   "metadata": {},
   "outputs": [
    {
     "data": {
      "text/plain": [
       "[{'role': 'system',\n",
       "  'content': 'You estimate prices of items. Reply only with the price, no explanation'},\n",
       " {'role': 'user',\n",
       "  'content': 'How much does this cost?\\n\\nMinneer Racing Steering Simulator Cockpit Red with TV Bracket Mounting Holes Racing Wheel Stand/Fits Logitech G25, G27, G29/ Compatible with Xbox One, Playstation, PC Platforms with Capacity 220LBS\\nPrice Guarantee#：If the price drops within 30 days of purchase, please contact us by email. We will arrange a refund of the price difference for you. Compatible with all racing wheels Thrustmaster, logitech, fanatec; fully customizable. Wide racing seat with thick padding, seat sliders and angle adjustment. Support the front and back adjustment of the seat and adjust the angle of the backrest. Compact, easy to foldable, easy to move, easy to store away. All mounting hardware and tools included. Ready to use right out the'},\n",
       " {'role': 'assistant', 'content': 'Price is $344.99'}]"
      ]
     },
     "execution_count": 10,
     "metadata": {},
     "output_type": "execute_result"
    }
   ],
   "source": [
    "messages_for(train[0])"
   ]
  },
  {
   "cell_type": "code",
   "execution_count": 11,
   "metadata": {},
   "outputs": [],
   "source": [
    "# Convert the items into a list of json objects - a \"jsonl\" string\n",
    "# Each row represents a message in the form:\n",
    "# {\"messages\" : [{\"role\": \"system\", \"content\": \"You estimate prices...\n",
    "\n",
    "\n",
    "def make_jsonl(items):\n",
    "    result = \"\"\n",
    "    for item in items:\n",
    "        messages = messages_for(item)\n",
    "        messages_str = json.dumps(messages)\n",
    "        result += '{\"messages\": ' + messages_str +'}\\n'\n",
    "    return result.strip()"
   ]
  },
  {
   "cell_type": "code",
   "execution_count": 12,
   "metadata": {},
   "outputs": [
    {
     "name": "stdout",
     "output_type": "stream",
     "text": [
      "{\"messages\": [{\"role\": \"system\", \"content\": \"You estimate prices of items. Reply only with the price, no explanation\"}, {\"role\": \"user\", \"content\": \"How much does this cost?\\n\\nMinneer Racing Steering Simulator Cockpit Red with TV Bracket Mounting Holes Racing Wheel Stand/Fits Logitech G25, G27, G29/ Compatible with Xbox One, Playstation, PC Platforms with Capacity 220LBS\\nPrice Guarantee#\\uff1aIf the price drops within 30 days of purchase, please contact us by email. We will arrange a refund of the price difference for you. Compatible with all racing wheels Thrustmaster, logitech, fanatec; fully customizable. Wide racing seat with thick padding, seat sliders and angle adjustment. Support the front and back adjustment of the seat and adjust the angle of the backrest. Compact, easy to foldable, easy to move, easy to store away. All mounting hardware and tools included. Ready to use right out the\"}, {\"role\": \"assistant\", \"content\": \"Price is $344.99\"}]}\n",
      "{\"messages\": [{\"role\": \"system\", \"content\": \"You estimate prices of items. Reply only with the price, no explanation\"}, {\"role\": \"user\", \"content\": \"How much does this cost?\\n\\nHoberta Real 14k solid White Gold Tiny Line Bar Stud Earrings for Women & Girls - for Ears, Small & Minimalist Jewelry for Gifts (White Gold)\\n\\u2714\\ufe0f\\u2735The 14K White Gold Line Bar Earrings is a charming pair of accessories to finish off your style. It is a gorgeous golden statement lightweight piece that enhances your ensemble with a little sparkle and shine. This is flaunt-worthy and must-have for all classy women. \\u2714\\ufe0f\\ud83d\\ude0dWe love these 14K White Gold Line Bar Earrings because it can be worn for many different reasons and for many different purposes. it can be both timeless and trendy, classy and edgy, in your face and subtle. It is a great way to express one\\u2019s feelings, whether it\\u2019s by wearing\"}, {\"role\": \"assistant\", \"content\": \"Price is $42.98\"}]}\n",
      "{\"messages\": [{\"role\": \"system\", \"content\": \"You estimate prices of items. Reply only with the price, no explanation\"}, {\"role\": \"user\", \"content\": \"How much does this cost?\\n\\nBattery Powered Marquee Letters | Light up Letters and numbers with Battery (2)\\nBig Marquee Letters | Battery Powered Letters and Numbers Most stunning piece of decoration for your party These free standing marquee letters/numbers are powered with battery. It requires two AA batteries We do not provide the AA batteries Can be placed on table or on the floor. They are made out of durable white E-PVC. The dimensions that they come in are 30 inches height x 18 wide (2.5' x 1.5') Please note that no extra decorations are provided with the letters. Battery Powered Letters and Numbers Free standing marquee letters Made out of durable white E-PVC Dimensions are 30 tall x 18 Wide It requires two AA batteries (not included) Dimensions 36 x 22\"}, {\"role\": \"assistant\", \"content\": \"Price is $109.00\"}]}\n"
     ]
    }
   ],
   "source": [
    "print(make_jsonl(train[:3]))"
   ]
  },
  {
   "cell_type": "code",
   "execution_count": 13,
   "metadata": {},
   "outputs": [],
   "source": [
    "# Convert the items into jsonl and write them to a file\n",
    "\n",
    "def write_jsonl(items, filename):\n",
    "    with open(filename, \"w\") as f:\n",
    "        jsonl = make_jsonl(items)\n",
    "        f.write(jsonl)"
   ]
  },
  {
   "cell_type": "code",
   "execution_count": 14,
   "metadata": {},
   "outputs": [],
   "source": [
    "write_jsonl(fine_tune_train, \"fine_tune_train.jsonl\")"
   ]
  },
  {
   "cell_type": "code",
   "execution_count": 15,
   "metadata": {},
   "outputs": [],
   "source": [
    "write_jsonl(fine_tune_validation, \"fine_tune_validation.jsonl\")"
   ]
  },
  {
   "cell_type": "code",
   "execution_count": 16,
   "metadata": {},
   "outputs": [],
   "source": [
    "with open(\"fine_tune_train.jsonl\", \"rb\") as f:\n",
    "    train_file = openai.files.create(file=f, purpose=\"fine-tune\")"
   ]
  },
  {
   "cell_type": "code",
   "execution_count": 17,
   "metadata": {},
   "outputs": [
    {
     "data": {
      "text/plain": [
       "FileObject(id='file-R2T9LHB7LEAA2zTLJfFPX4', bytes=194497, created_at=1737037688, filename='fine_tune_train.jsonl', object='file', purpose='fine-tune', status='processed', status_details=None)"
      ]
     },
     "execution_count": 17,
     "metadata": {},
     "output_type": "execute_result"
    }
   ],
   "source": [
    "train_file"
   ]
  },
  {
   "cell_type": "code",
   "execution_count": 18,
   "metadata": {},
   "outputs": [],
   "source": [
    "with open(\"fine_tune_validation.jsonl\", \"rb\") as f:\n",
    "    validation_file = openai.files.create(file=f, purpose=\"fine-tune\")"
   ]
  },
  {
   "cell_type": "code",
   "execution_count": 19,
   "metadata": {},
   "outputs": [
    {
     "data": {
      "text/plain": [
       "FileObject(id='file-Q6DAmqcECbAzbLSko6JbDG', bytes=47810, created_at=1737037729, filename='fine_tune_validation.jsonl', object='file', purpose='fine-tune', status='processed', status_details=None)"
      ]
     },
     "execution_count": 19,
     "metadata": {},
     "output_type": "execute_result"
    }
   ],
   "source": [
    "validation_file"
   ]
  },
  {
   "cell_type": "markdown",
   "metadata": {},
   "source": [
    "Step 2 \n",
    "Fine tuning "
   ]
  },
  {
   "cell_type": "code",
   "execution_count": 20,
   "metadata": {},
   "outputs": [],
   "source": [
    "wandb_integration = {\"type\": \"wandb\", \"wandb\": {\"project\": \"gpt-pricer\"}}"
   ]
  },
  {
   "cell_type": "code",
   "execution_count": 21,
   "metadata": {},
   "outputs": [
    {
     "data": {
      "text/plain": [
       "'file-R2T9LHB7LEAA2zTLJfFPX4'"
      ]
     },
     "execution_count": 21,
     "metadata": {},
     "output_type": "execute_result"
    }
   ],
   "source": [
    "train_file.id"
   ]
  },
  {
   "cell_type": "code",
   "execution_count": 22,
   "metadata": {},
   "outputs": [
    {
     "data": {
      "text/plain": [
       "FineTuningJob(id='ftjob-G3pUQTFDRrn58Q8O1PI0KXVw', created_at=1737039148, error=Error(code=None, message=None, param=None), fine_tuned_model=None, finished_at=None, hyperparameters=Hyperparameters(n_epochs=1, batch_size='auto', learning_rate_multiplier='auto'), model='gpt-4o-mini-2024-07-18', object='fine_tuning.job', organization_id='org-mt8MTGQ32F09Gl0L1uHlK0TG', result_files=[], seed=42, status='validating_files', trained_tokens=None, training_file='file-R2T9LHB7LEAA2zTLJfFPX4', validation_file='file-Q6DAmqcECbAzbLSko6JbDG', estimated_finish=None, integrations=[FineTuningJobWandbIntegrationObject(type='wandb', wandb=FineTuningJobWandbIntegration(project='gpt-pricer', entity=None, name=None, tags=None, run_id='ftjob-G3pUQTFDRrn58Q8O1PI0KXVw'))], user_provided_suffix='pricer', method={'type': 'supervised', 'supervised': {'hyperparameters': {'batch_size': 'auto', 'learning_rate_multiplier': 'auto', 'n_epochs': 1}}})"
      ]
     },
     "execution_count": 22,
     "metadata": {},
     "output_type": "execute_result"
    }
   ],
   "source": [
    "openai.fine_tuning.jobs.create(\n",
    "    training_file=train_file.id,\n",
    "    validation_file=validation_file.id,\n",
    "    model=\"gpt-4o-mini-2024-07-18\",\n",
    "    seed=42,\n",
    "    hyperparameters={\"n_epochs\": 1},\n",
    "    integrations = [wandb_integration],\n",
    "    suffix=\"pricer\"\n",
    ")"
   ]
  },
  {
   "cell_type": "code",
   "execution_count": 23,
   "metadata": {},
   "outputs": [
    {
     "data": {
      "text/plain": [
       "SyncCursorPage[FineTuningJob](data=[FineTuningJob(id='ftjob-G3pUQTFDRrn58Q8O1PI0KXVw', created_at=1737039148, error=Error(code=None, message=None, param=None), fine_tuned_model=None, finished_at=None, hyperparameters=Hyperparameters(n_epochs=1, batch_size='auto', learning_rate_multiplier='auto'), model='gpt-4o-mini-2024-07-18', object='fine_tuning.job', organization_id='org-mt8MTGQ32F09Gl0L1uHlK0TG', result_files=[], seed=42, status='validating_files', trained_tokens=None, training_file='file-R2T9LHB7LEAA2zTLJfFPX4', validation_file='file-Q6DAmqcECbAzbLSko6JbDG', estimated_finish=None, integrations=[FineTuningJobWandbIntegrationObject(type='wandb', wandb=FineTuningJobWandbIntegration(project='gpt-pricer', entity=None, name=None, tags=None, run_id='ftjob-G3pUQTFDRrn58Q8O1PI0KXVw'))], user_provided_suffix='pricer', method={'type': 'supervised', 'supervised': {'hyperparameters': {'n_epochs': 1, 'batch_size': 'auto', 'learning_rate_multiplier': 'auto'}}})], object='list', has_more=False)"
      ]
     },
     "execution_count": 23,
     "metadata": {},
     "output_type": "execute_result"
    }
   ],
   "source": [
    "openai.fine_tuning.jobs.list(limit=1)"
   ]
  },
  {
   "cell_type": "code",
   "execution_count": 24,
   "metadata": {},
   "outputs": [],
   "source": [
    "job_id = openai.fine_tuning.jobs.list(limit=1).data[0].id"
   ]
  },
  {
   "cell_type": "code",
   "execution_count": 25,
   "metadata": {},
   "outputs": [
    {
     "data": {
      "text/plain": [
       "'ftjob-G3pUQTFDRrn58Q8O1PI0KXVw'"
      ]
     },
     "execution_count": 25,
     "metadata": {},
     "output_type": "execute_result"
    }
   ],
   "source": [
    "job_id"
   ]
  },
  {
   "cell_type": "code",
   "execution_count": 26,
   "metadata": {},
   "outputs": [
    {
     "data": {
      "text/plain": [
       "FineTuningJob(id='ftjob-G3pUQTFDRrn58Q8O1PI0KXVw', created_at=1737039148, error=Error(code=None, message=None, param=None), fine_tuned_model=None, finished_at=None, hyperparameters=Hyperparameters(n_epochs=1, batch_size=1, learning_rate_multiplier=1.8), model='gpt-4o-mini-2024-07-18', object='fine_tuning.job', organization_id='org-mt8MTGQ32F09Gl0L1uHlK0TG', result_files=[], seed=42, status='validating_files', trained_tokens=None, training_file='file-R2T9LHB7LEAA2zTLJfFPX4', validation_file='file-Q6DAmqcECbAzbLSko6JbDG', estimated_finish=None, integrations=[FineTuningJobWandbIntegrationObject(type='wandb', wandb=FineTuningJobWandbIntegration(project='gpt-pricer', entity=None, name=None, tags=None, run_id='ftjob-G3pUQTFDRrn58Q8O1PI0KXVw'))], user_provided_suffix='pricer', method={'type': 'supervised', 'supervised': {'hyperparameters': {'n_epochs': 1, 'batch_size': 1, 'learning_rate_multiplier': 1.8}}})"
      ]
     },
     "execution_count": 26,
     "metadata": {},
     "output_type": "execute_result"
    }
   ],
   "source": [
    "openai.fine_tuning.jobs.retrieve(job_id)"
   ]
  },
  {
   "cell_type": "code",
   "execution_count": 38,
   "metadata": {},
   "outputs": [
    {
     "data": {
      "text/plain": [
       "[FineTuningJobEvent(id='ftevent-ZBKkZ89c8WXqCUWAlhyUm6u8', created_at=1737039738, level='info', message='Step 200/200: training loss=1.14, validation loss=0.43, full validation loss=0.98', object='fine_tuning.job.event', data={'step': 200, 'train_loss': 1.141812801361084, 'valid_loss': 0.4325230121612549, 'total_steps': 200, 'full_valid_loss': 0.9834856081008911, 'train_mean_token_accuracy': 0.75, 'valid_mean_token_accuracy': 0.875, 'full_valid_mean_token_accuracy': 0.7925}, type='metrics'),\n",
       " FineTuningJobEvent(id='ftevent-o3NUcpAERMN2UBb5CbetAdzn', created_at=1737039733, level='info', message='Step 199/200: training loss=1.03', object='fine_tuning.job.event', data={'step': 199, 'train_loss': 1.0285546779632568, 'total_steps': 200, 'train_mean_token_accuracy': 0.875}, type='metrics'),\n",
       " FineTuningJobEvent(id='ftevent-eaKCFLauy813gcCiNAMeE3TN', created_at=1737039731, level='info', message='Step 198/200: training loss=0.39', object='fine_tuning.job.event', data={'step': 198, 'train_loss': 0.38582539558410645, 'total_steps': 200, 'train_mean_token_accuracy': 0.875}, type='metrics'),\n",
       " FineTuningJobEvent(id='ftevent-E5sMgIX3224RRSj0rnqyixQh', created_at=1737039725, level='info', message='Step 197/200: training loss=0.48', object='fine_tuning.job.event', data={'step': 197, 'train_loss': 0.48302292823791504, 'total_steps': 200, 'train_mean_token_accuracy': 0.875}, type='metrics'),\n",
       " FineTuningJobEvent(id='ftevent-GxwwmrSeOcPO3tUImloGw3PJ', created_at=1737039725, level='info', message='Step 196/200: training loss=0.92', object='fine_tuning.job.event', data={'step': 196, 'train_loss': 0.9190216064453125, 'total_steps': 200, 'train_mean_token_accuracy': 0.75}, type='metrics'),\n",
       " FineTuningJobEvent(id='ftevent-Z5XyVHRCiJgZ5dlC1XynY3LG', created_at=1737039725, level='info', message='Step 195/200: training loss=1.32', object='fine_tuning.job.event', data={'step': 195, 'train_loss': 1.3157014846801758, 'total_steps': 200, 'train_mean_token_accuracy': 0.75}, type='metrics'),\n",
       " FineTuningJobEvent(id='ftevent-pn3zBlfHMqYRDOSis2fdbDnL', created_at=1737039725, level='info', message='Step 194/200: training loss=1.20', object='fine_tuning.job.event', data={'step': 194, 'train_loss': 1.204866886138916, 'total_steps': 200, 'train_mean_token_accuracy': 0.75}, type='metrics'),\n",
       " FineTuningJobEvent(id='ftevent-dmz1opsZTdaUATe7YN5qgGxF', created_at=1737039725, level='info', message='Step 193/200: training loss=1.47', object='fine_tuning.job.event', data={'step': 193, 'train_loss': 1.468306303024292, 'total_steps': 200, 'train_mean_token_accuracy': 0.75}, type='metrics'),\n",
       " FineTuningJobEvent(id='ftevent-Sf0suM4pztPGpcGmGGfbmhLH', created_at=1737039725, level='info', message='Step 192/200: training loss=1.06', object='fine_tuning.job.event', data={'step': 192, 'train_loss': 1.06221342086792, 'total_steps': 200, 'train_mean_token_accuracy': 0.75}, type='metrics'),\n",
       " FineTuningJobEvent(id='ftevent-GFBKO43MK42QLMPr8x9ehHGC', created_at=1737039724, level='info', message='Step 191/200: training loss=0.65', object='fine_tuning.job.event', data={'step': 191, 'train_loss': 0.6530413627624512, 'total_steps': 200, 'train_mean_token_accuracy': 0.875}, type='metrics')]"
      ]
     },
     "execution_count": 38,
     "metadata": {},
     "output_type": "execute_result"
    }
   ],
   "source": [
    "openai.fine_tuning.jobs.list_events(fine_tuning_job_id=job_id, limit=10).data"
   ]
  },
  {
   "cell_type": "markdown",
   "metadata": {},
   "source": [
    "Step 3\n",
    "\n",
    "Test our fine tuned model"
   ]
  },
  {
   "cell_type": "code",
   "execution_count": 39,
   "metadata": {},
   "outputs": [],
   "source": [
    "fine_tuned_model_name = openai.fine_tuning.jobs.retrieve(job_id).fine_tuned_model"
   ]
  },
  {
   "cell_type": "code",
   "execution_count": 40,
   "metadata": {},
   "outputs": [
    {
     "data": {
      "text/plain": [
       "'ft:gpt-4o-mini-2024-07-18:personal:pricer:AqLh5I7Q'"
      ]
     },
     "execution_count": 40,
     "metadata": {},
     "output_type": "execute_result"
    }
   ],
   "source": [
    "fine_tuned_model_name"
   ]
  },
  {
   "cell_type": "code",
   "execution_count": 41,
   "metadata": {},
   "outputs": [],
   "source": [
    "# The prompt\n",
    "\n",
    "def messages_for(item):\n",
    "    system_message = \"You estimate prices of items. Reply only with the price, no explanation\"\n",
    "    user_prompt = item.test_prompt().replace(\" to the nearest dollar\",\"\").replace(\"\\n\\nPrice is $\",\"\")\n",
    "    return [\n",
    "        {\"role\": \"system\", \"content\": system_message},\n",
    "        {\"role\": \"user\", \"content\": user_prompt},\n",
    "        {\"role\": \"assistant\", \"content\": \"Price is $\"}\n",
    "    ]"
   ]
  },
  {
   "cell_type": "code",
   "execution_count": 42,
   "metadata": {},
   "outputs": [
    {
     "data": {
      "text/plain": [
       "[{'role': 'system',\n",
       "  'content': 'You estimate prices of items. Reply only with the price, no explanation'},\n",
       " {'role': 'user',\n",
       "  'content': \"How much does this cost?\\n\\nThe Phantom of the Opera Gaston Leroux Clay Mini Book Key Chain Ring Bag Purse Backpack Clip Snap\\n“I tore off my mask so as not to lose one of her tears... and she did not run away!” Wouldn't you like a more effective way to keep track of your bag? This clay mini book pendant provides a durable, lightweight accessory to mark your satchel, purse or backpack. Both eye-catching and trendy, the stunning cover makes it easy to locate your belongings. VERSATILE it doubles as a lovely key chain or key ring.Treat yourself to a Book Beads adaptation of a novel which was first serialized in La Gaulois (1909) and remains a musical classic to this day. It's the perfect bookish accessory! HANDMADE IN THE USA when\"},\n",
       " {'role': 'assistant', 'content': 'Price is $'}]"
      ]
     },
     "execution_count": 42,
     "metadata": {},
     "output_type": "execute_result"
    }
   ],
   "source": [
    "# Try this out\n",
    "\n",
    "messages_for(test[0])"
   ]
  },
  {
   "cell_type": "code",
   "execution_count": 43,
   "metadata": {},
   "outputs": [],
   "source": [
    "# A utility function to extract the price from a string\n",
    "\n",
    "def get_price(s):\n",
    "    s = s.replace('$','').replace(',','')\n",
    "    match = re.search(r\"[-+]?\\d*\\.\\d+|\\d+\", s)\n",
    "    return float(match.group()) if match else 0"
   ]
  },
  {
   "cell_type": "code",
   "execution_count": 44,
   "metadata": {},
   "outputs": [
    {
     "data": {
      "text/plain": [
       "99.99"
      ]
     },
     "execution_count": 44,
     "metadata": {},
     "output_type": "execute_result"
    }
   ],
   "source": [
    "get_price(\"The price is roughly $99.99 because blah blah\")"
   ]
  },
  {
   "cell_type": "code",
   "execution_count": 45,
   "metadata": {},
   "outputs": [],
   "source": [
    "# The function for gpt-4o-mini\n",
    "\n",
    "def gpt_fine_tuned(item):\n",
    "    response = openai.chat.completions.create(\n",
    "        model=fine_tuned_model_name, \n",
    "        messages=messages_for(item),\n",
    "        seed=42,\n",
    "        max_tokens=7\n",
    "    )\n",
    "    reply = response.choices[0].message.content\n",
    "    return get_price(reply)"
   ]
  },
  {
   "cell_type": "code",
   "execution_count": 46,
   "metadata": {},
   "outputs": [
    {
     "name": "stdout",
     "output_type": "stream",
     "text": [
      "35.0\n",
      "14.98\n"
     ]
    }
   ],
   "source": [
    "print(test[0].price)\n",
    "print(gpt_fine_tuned(test[0]))"
   ]
  },
  {
   "cell_type": "code",
   "execution_count": 47,
   "metadata": {},
   "outputs": [
    {
     "name": "stdout",
     "output_type": "stream",
     "text": [
      "How much does this cost to the nearest dollar?\n",
      "\n",
      "The Phantom of the Opera Gaston Leroux Clay Mini Book Key Chain Ring Bag Purse Backpack Clip Snap\n",
      "“I tore off my mask so as not to lose one of her tears... and she did not run away!” Wouldn't you like a more effective way to keep track of your bag? This clay mini book pendant provides a durable, lightweight accessory to mark your satchel, purse or backpack. Both eye-catching and trendy, the stunning cover makes it easy to locate your belongings. VERSATILE it doubles as a lovely key chain or key ring.Treat yourself to a Book Beads adaptation of a novel which was first serialized in La Gaulois (1909) and remains a musical classic to this day. It's the perfect bookish accessory! HANDMADE IN THE USA when\n",
      "\n",
      "Price is $\n"
     ]
    }
   ],
   "source": [
    "print(test[0].test_prompt())"
   ]
  },
  {
   "cell_type": "code",
   "execution_count": 48,
   "metadata": {},
   "outputs": [
    {
     "name": "stdout",
     "output_type": "stream",
     "text": [
      "\u001b[92m1: Guess: $14.98 Truth: $35.00 Error: $20.02 SLE: 0.66 Item: The Phantom of the Opera Gaston Leroux C...\u001b[0m\n",
      "\u001b[92m2: Guess: $127.22 Truth: $135.99 Error: $8.77 SLE: 0.00 Item: Norcold 628970 Fridge Part\u001b[0m\n",
      "\u001b[93m3: Guess: $129.99 Truth: $178.43 Error: $48.44 SLE: 0.10 Item: SPT RF-244SS Compact Refrigerator, Stain...\u001b[0m\n",
      "\u001b[92m4: Guess: $23.47 Truth: $6.98 Error: $16.49 SLE: 1.26 Item: Letter Red B Balloons,40 Inch Single Red...\u001b[0m\n",
      "\u001b[92m5: Guess: $83.99 Truth: $45.99 Error: $38.00 SLE: 0.35 Item: Konami Classics Arcade Hits - Nintendo D...\u001b[0m\n",
      "\u001b[92m6: Guess: $127.99 Truth: $88.99 Error: $39.00 SLE: 0.13 Item: Mini Washing Machine, Portable Washer fo...\u001b[0m\n",
      "\u001b[92m7: Guess: $118.00 Truth: $104.95 Error: $13.05 SLE: 0.01 Item: Farmhouse Buffalo Plaid Wreath - Front D...\u001b[0m\n",
      "\u001b[91m8: Guess: $47.22 Truth: $215.00 Error: $167.78 SLE: 2.25 Item: Corpse Party: Back to School Edition - N...\u001b[0m\n",
      "\u001b[91m9: Guess: $239.00 Truth: $75.00 Error: $164.00 SLE: 1.32 Item: True leather case for Microsoft Surface ...\u001b[0m\n",
      "\u001b[92m10: Guess: $65.98 Truth: $97.71 Error: $31.73 SLE: 0.15 Item: Virtua Cop 2 [Japan Import]\u001b[0m\n",
      "\u001b[92m11: Guess: $47.95 Truth: $57.00 Error: $9.05 SLE: 0.03 Item: Covogoods CovoBox v2— Hidden Storage Sec...\u001b[0m\n",
      "\u001b[92m12: Guess: $43.99 Truth: $58.49 Error: $14.50 SLE: 0.08 Item: QNAVIC Raw Ultra Fire Polished Ethiopian...\u001b[0m\n",
      "\u001b[92m13: Guess: $0.99 Truth: $7.99 Error: $7.00 SLE: 2.27 Item: Galaxy Birds - Space Action Shooting\u001b[0m\n",
      "\u001b[93m14: Guess: $164.99 Truth: $269.95 Error: $104.96 SLE: 0.24 Item: Growlanser: Heritage of War Limited Edit...\u001b[0m\n",
      "\u001b[92m15: Guess: $37.99 Truth: $35.77 Error: $2.22 SLE: 0.00 Item: AJU73213301 Water Inlet Valve for LG Ken...\u001b[0m\n",
      "\u001b[91m16: Guess: $349.00 Truth: $199.00 Error: $150.00 SLE: 0.31 Item: Large Three Bowl X Pattern Farmhouse Dog...\u001b[0m\n",
      "\u001b[92m17: Guess: $8.95 Truth: $9.00 Error: $0.05 SLE: 0.00 Item: Remember Who You Are Magic Band Skin Vin...\u001b[0m\n",
      "\u001b[92m18: Guess: $10.99 Truth: $36.98 Error: $25.99 SLE: 1.33 Item: YInahawaii Handmadethree blue sea glass ...\u001b[0m\n",
      "\u001b[92m19: Guess: $49.00 Truth: $53.95 Error: $4.95 SLE: 0.01 Item: USS Firedrake AE-14 Personalized United ...\u001b[0m\n",
      "\u001b[92m20: Guess: $32.00 Truth: $8.50 Error: $23.50 SLE: 1.55 Item: Marriage an Endless Sleepover with Your ...\u001b[0m\n",
      "\u001b[93m21: Guess: $147.65 Truth: $86.01 Error: $61.64 SLE: 0.29 Item: Duke 5580-2 5580-2 120 Volt Infinite Swi...\u001b[0m\n",
      "\u001b[92m22: Guess: $349.95 Truth: $339.95 Error: $10.00 SLE: 0.00 Item: ZLINE 20.5\" Ducted Wall Mount Range Hood...\u001b[0m\n",
      "\u001b[91m23: Guess: $47.98 Truth: $159.99 Error: $112.01 SLE: 1.42 Item: Super Mario 3D All-Stars and Animal Cros...\u001b[0m\n",
      "\u001b[92m24: Guess: $22.99 Truth: $11.89 Error: $11.10 SLE: 0.39 Item: HK Studio Hippie Wave Skin Decal (Not Ca...\u001b[0m\n",
      "\u001b[92m25: Guess: $29.00 Truth: $24.95 Error: $4.05 SLE: 0.02 Item: Nature Forest Art Print 16 x 20 - Wilder...\u001b[0m\n",
      "\u001b[92m26: Guess: $179.99 Truth: $209.99 Error: $30.00 SLE: 0.02 Item: SOUKOO Ice Maker, 44lbs Daily Ice Cube M...\u001b[0m\n",
      "\u001b[92m27: Guess: $47.98 Truth: $32.81 Error: $15.17 SLE: 0.14 Item: NASCAR Dirt to Daytona\u001b[0m\n",
      "\u001b[93m28: Guess: $174.99 Truth: $129.99 Error: $45.00 SLE: 0.09 Item: Arcade1Up Mortal Kombat Swivel High Back...\u001b[0m\n",
      "\u001b[92m29: Guess: $66.47 Truth: $89.93 Error: $23.46 SLE: 0.09 Item: McAfee 2017 LiveSafe [Online Code]\u001b[0m\n",
      "\u001b[91m30: Guess: $276.00 Truth: $152.00 Error: $124.00 SLE: 0.35 Item: Twilight Dragon Ring by MONVATOO London,...\u001b[0m\n",
      "\u001b[92m31: Guess: $76.99 Truth: $86.84 Error: $9.85 SLE: 0.01 Item: Refrigerator Ice Maker Compatible with M...\u001b[0m\n",
      "\u001b[92m32: Guess: $174.00 Truth: $149.00 Error: $25.00 SLE: 0.02 Item: Automaton Bite 1682\"Metal Jacket\" Large ...\u001b[0m\n",
      "\u001b[93m33: Guess: $219.98 Truth: $343.00 Error: $123.02 SLE: 0.20 Item: PlayerO Play-Station VR Marvel's Iron Ma...\u001b[0m\n",
      "\u001b[93m34: Guess: $139.98 Truth: $224.99 Error: $85.01 SLE: 0.22 Item: Antarctic Star Mini Upright Freezer -2.3...\u001b[0m\n",
      "\u001b[91m35: Guess: $219.00 Truth: $429.00 Error: $210.00 SLE: 0.45 Item: Empava 30” Electric Stove Induction Cook...\u001b[0m\n",
      "\u001b[92m36: Guess: $139.98 Truth: $134.99 Error: $4.99 SLE: 0.00 Item: Game Boy Color - Teal\u001b[0m\n",
      "\u001b[92m37: Guess: $219.00 Truth: $213.29 Error: $5.71 SLE: 0.00 Item: Next Level Racing Elite DD Side and Fron...\u001b[0m\n",
      "\u001b[91m38: Guess: $66.47 Truth: $499.99 Error: $433.52 SLE: 4.02 Item: Logitech Gaming Keyboard G110\u001b[0m\n",
      "\u001b[93m39: Guess: $154.65 Truth: $104.86 Error: $49.79 SLE: 0.15 Item: SaniServ 188471 Shake Front Plate Kit\u001b[0m\n",
      "\u001b[91m40: Guess: $2,198.99 Truth: $399.99 Error: $1,799.00 SLE: 2.90 Item: ROVSUN 150lbs/24h Commercial Ice Maker w...\u001b[0m\n",
      "\u001b[92m41: Guess: $47.95 Truth: $8.99 Error: $38.96 SLE: 2.53 Item: Flour Sack Towel - Minnesota State - MN ...\u001b[0m\n",
      "\u001b[92m42: Guess: $22.99 Truth: $23.99 Error: $1.00 SLE: 0.00 Item: Daily Workouts\u001b[0m\n",
      "\u001b[92m43: Guess: $76.99 Truth: $61.09 Error: $15.90 SLE: 0.05 Item: The Suffering - Xbox\u001b[0m\n",
      "\u001b[92m44: Guess: $139.98 Truth: $179.95 Error: $39.97 SLE: 0.06 Item: Personalized Address Sign - Reflective D...\u001b[0m\n",
      "\u001b[92m45: Guess: $149.99 Truth: $169.00 Error: $19.01 SLE: 0.01 Item: Tiger's Eye and Gold Vermeil Bracelet, M...\u001b[0m\n",
      "\u001b[93m46: Guess: $179.99 Truth: $114.95 Error: $65.04 SLE: 0.20 Item: Scarecrow Thanksgiving Deco Mesh Wreath ...\u001b[0m\n",
      "\u001b[91m47: Guess: $47.00 Truth: $189.00 Error: $142.00 SLE: 1.89 Item: Sterling Silver Chunky Spinner Ring with...\u001b[0m\n",
      "\u001b[92m48: Guess: $25.99 Truth: $18.99 Error: $7.00 SLE: 0.09 Item: 5ph2337 Dryer Belt and Idler Pulley DC93...\u001b[0m\n",
      "\u001b[92m49: Guess: $329.00 Truth: $399.98 Error: $70.98 SLE: 0.04 Item: Aprilaire 700 Automatic Humidifier\u001b[0m\n",
      "\u001b[92m50: Guess: $118.00 Truth: $140.00 Error: $22.00 SLE: 0.03 Item: Wide Gold Cuff Bracelet for Men- 14K Gol...\u001b[0m\n",
      "\u001b[91m51: Guess: $47.98 Truth: $169.00 Error: $121.02 SLE: 1.55 Item: Virtua Striker 2\u001b[0m\n",
      "\u001b[92m52: Guess: $29.00 Truth: $44.00 Error: $15.00 SLE: 0.16 Item: Bunny Rabbit Stud Earrings Polished Ster...\u001b[0m\n",
      "\u001b[92m53: Guess: $47.95 Truth: $64.00 Error: $16.05 SLE: 0.08 Item: 60th Birthday Gifts for Women | Sterling...\u001b[0m\n",
      "\u001b[92m54: Guess: $29.99 Truth: $12.99 Error: $17.00 SLE: 0.63 Item: Alitutumao Replacement Astro A10 Cord In...\u001b[0m\n",
      "\u001b[91m55: Guess: $47.22 Truth: $198.46 Error: $151.24 SLE: 2.02 Item: Saint Seiya Brave Soldiers - Pegasus EX ...\u001b[0m\n",
      "\u001b[92m56: Guess: $65.98 Truth: $66.34 Error: $0.36 SLE: 0.00 Item: Drive Lens for PS5 KES 497 AAA Game Cons...\u001b[0m\n",
      "\u001b[92m57: Guess: $14.65 Truth: $3.99 Error: $10.66 SLE: 1.31 Item: MonoPrice VGA Cable for Xbox 360\u001b[0m\n",
      "\u001b[93m58: Guess: $127.99 Truth: $174.54 Error: $46.55 SLE: 0.09 Item: Nintendo DSi XL Midnight Blue (Renewed)\u001b[0m\n",
      "\u001b[92m59: Guess: $22.22 Truth: $46.47 Error: $24.25 SLE: 0.51 Item: Disney Infinity 3.0 PS4 Standalone Game ...\u001b[0m\n",
      "\u001b[92m60: Guess: $99.00 Truth: $69.00 Error: $30.00 SLE: 0.13 Item: Luminar 2018 Jupiter for Mac OS [Downloa...\u001b[0m\n",
      "\u001b[92m61: Guess: $66.47 Truth: $72.24 Error: $5.77 SLE: 0.01 Item: Splendide SK03 Stackable Kit for Front L...\u001b[0m\n",
      "\u001b[93m62: Guess: $83.57 Truth: $130.56 Error: $46.99 SLE: 0.20 Item: Frigidaire 5304445530 Door Hinge Range/S...\u001b[0m\n",
      "\u001b[92m63: Guess: $18.00 Truth: $9.49 Error: $8.51 SLE: 0.35 Item: Medical Symbol - Purple Damask - PERSONA...\u001b[0m\n",
      "\u001b[92m64: Guess: $127.99 Truth: $89.00 Error: $38.99 SLE: 0.13 Item: Blue Topaz Size 8 Poison Ring Locket Bal...\u001b[0m\n",
      "\u001b[92m65: Guess: $249.99 Truth: $257.95 Error: $7.96 SLE: 0.00 Item: Sony PlayStation 4 Console, Renewed, Bla...\u001b[0m\n",
      "\u001b[92m66: Guess: $47.22 Truth: $72.59 Error: $25.37 SLE: 0.18 Item: Ace Combat Zero: The Belkan War (Renewed...\u001b[0m\n",
      "\u001b[92m67: Guess: $34.98 Truth: $4.59 Error: $30.39 SLE: 3.47 Item: Chore Chart Made with Your Childs Name. ...\u001b[0m\n",
      "\u001b[93m68: Guess: $47.99 Truth: $108.00 Error: $60.01 SLE: 0.64 Item: Flesports FL980 Mechanical Gaming Keyboa...\u001b[0m\n",
      "\u001b[92m69: Guess: $69.99 Truth: $97.00 Error: $27.01 SLE: 0.10 Item: Razer Viper Ultralight Ambidextrous Wire...\u001b[0m\n",
      "\u001b[91m70: Guess: $349.99 Truth: $195.98 Error: $154.01 SLE: 0.33 Item: PlayStation 4 500GB Console [Old Model][...\u001b[0m\n",
      "\u001b[91m71: Guess: $66.47 Truth: $336.00 Error: $269.53 SLE: 2.59 Item: LOGANOVA® Blackout Curtains - Flat Roman...\u001b[0m\n",
      "\u001b[92m72: Guess: $65.69 Truth: $105.00 Error: $39.31 SLE: 0.21 Item: CIMA: The Enemy - Game Boy Advance\u001b[0m\n",
      "\u001b[92m73: Guess: $65.98 Truth: $99.99 Error: $34.01 SLE: 0.17 Item: Belkin Nostromo Speedpad n52\u001b[0m\n",
      "\u001b[92m74: Guess: $14.98 Truth: $12.99 Error: $1.99 SLE: 0.02 Item: IKPEK 20pcs 2K3 Ohm Potentiometer Replac...\u001b[0m\n",
      "\u001b[92m75: Guess: $49.00 Truth: $67.00 Error: $18.00 SLE: 0.09 Item: Sterling Silver Dragonfly Urn locket Pen...\u001b[0m\n",
      "\u001b[93m76: Guess: $47.99 Truth: $99.95 Error: $51.96 SLE: 0.52 Item: Premium Handmade Marble Chess Set with G...\u001b[0m\n",
      "\u001b[92m77: Guess: $34.98 Truth: $15.99 Error: $18.99 SLE: 0.56 Item: CLOUDREAM Gamecube Controller Adapter fo...\u001b[0m\n",
      "\u001b[91m78: Guess: $47.22 Truth: $144.50 Error: $97.28 SLE: 1.22 Item: General Electric WR51X465 Defrost Heater...\u001b[0m\n",
      "\u001b[93m79: Guess: $499.99 Truth: $699.99 Error: $200.00 SLE: 0.11 Item: Legends Ultimate Arcade, Full Size Game ...\u001b[0m\n",
      "\u001b[91m80: Guess: $139.98 Truth: $33.65 Error: $106.33 SLE: 1.97 Item: Portable Arcade Fight Stick, Arcade Figh...\u001b[0m\n",
      "\u001b[93m81: Guess: $22.99 Truth: $78.00 Error: $55.01 SLE: 1.42 Item: Sublingual B Total Twin Pack 2 oz - 8 Pa...\u001b[0m\n",
      "\u001b[93m82: Guess: $52.74 Truth: $110.72 Error: $57.98 SLE: 0.54 Item: Frigidaire 316271900 Small Burner Cap fo...\u001b[0m\n",
      "\u001b[92m83: Guess: $47.00 Truth: $44.00 Error: $3.00 SLE: 0.00 Item: Hand Chain Bracelet Heart Bracelet for W...\u001b[0m\n",
      "\u001b[92m84: Guess: $43.66 Truth: $64.69 Error: $21.03 SLE: 0.15 Item: UPGRADED Lifetime Appliance 240338001 (T...\u001b[0m\n",
      "\u001b[93m85: Guess: $47.95 Truth: $124.99 Error: $77.04 SLE: 0.89 Item: Cedarnest Bluebird Houses 8\u001b[0m\n",
      "\u001b[92m86: Guess: $22.69 Truth: $0.99 Error: $21.70 SLE: 6.14 Item: Dark Lore Mysteries: The Hunt for Truth ...\u001b[0m\n",
      "\u001b[93m87: Guess: $22.99 Truth: $80.78 Error: $57.79 SLE: 1.50 Item: Officially Licensed PS2 Wired Controller...\u001b[0m\n",
      "\u001b[93m88: Guess: $109.99 Truth: $52.56 Error: $57.43 SLE: 0.53 Item: Mini Washing Machine, 4.5L Portable Comp...\u001b[0m\n",
      "\u001b[92m89: Guess: $54.99 Truth: $26.17 Error: $28.82 SLE: 0.52 Item: w11165546 w11220230 water inlet valve OE...\u001b[0m\n",
      "\u001b[91m90: Guess: $47.99 Truth: $160.99 Error: $113.00 SLE: 1.43 Item: Replacement Playstation 2 Slim Console O...\u001b[0m\n",
      "\u001b[92m91: Guess: $47.99 Truth: $43.95 Error: $4.04 SLE: 0.01 Item: EVORETRO Clear Acrylic Protector Case Co...\u001b[0m\n",
      "\u001b[93m92: Guess: $66.47 Truth: $112.61 Error: $46.14 SLE: 0.27 Item: Soul Blader (aka Soul Blazer) Super Fami...\u001b[0m\n",
      "\u001b[92m93: Guess: $69.99 Truth: $97.50 Error: $27.51 SLE: 0.11 Item: Raiden V: Director's Cut Limited Edition...\u001b[0m\n",
      "\u001b[91m94: Guess: $47.98 Truth: $129.99 Error: $82.01 SLE: 0.97 Item: Rockstar Games Collection Edition 1 - Pl...\u001b[0m\n",
      "\u001b[92m95: Guess: $24.99 Truth: $3.95 Error: $21.04 SLE: 2.75 Item: Bubbly Burst [Download]\u001b[0m\n",
      "\u001b[93m96: Guess: $154.65 Truth: $103.09 Error: $51.56 SLE: 0.16 Item: General Electric WB44T10005 Range/Stove/...\u001b[0m\n",
      "\u001b[93m97: Guess: $65.98 Truth: $119.00 Error: $53.02 SLE: 0.34 Item: Megaman X Command Mission\u001b[0m\n",
      "\u001b[92m98: Guess: $65.98 Truth: $95.00 Error: $29.02 SLE: 0.13 Item: Fine Solid Sterling Silver Large Natural...\u001b[0m\n",
      "\u001b[91m99: Guess: $110.47 Truth: $289.99 Error: $179.52 SLE: 0.92 Item: Everdrive 64 X7 Official By KrikZZ the B...\u001b[0m\n",
      "\u001b[92m100: Guess: $219.98 Truth: $229.99 Error: $10.01 SLE: 0.00 Item: PlayStation 4 Slim 500GB Console [Discon...\u001b[0m\n",
      "\u001b[91m101: Guess: $139.98 Truth: $349.99 Error: $210.01 SLE: 0.83 Item: Nintendo Wii System - White, Great Condi...\u001b[0m\n",
      "\u001b[91m102: Guess: $367.99 Truth: $839.99 Error: $472.00 SLE: 0.68 Item: 30 Inch Under Cabinet Wall Mount Range H...\u001b[0m\n",
      "\u001b[91m103: Guess: $179.99 Truth: $85.55 Error: $94.44 SLE: 0.54 Item: Linen Cover Deluxe+ for Docks Pure 100% ...\u001b[0m\n",
      "\u001b[93m104: Guess: $47.99 Truth: $127.76 Error: $79.77 SLE: 0.93 Item: LEOBOG Mechanical Keyboard,104 Key Anti-...\u001b[0m\n",
      "\u001b[93m105: Guess: $249.99 Truth: $199.00 Error: $50.99 SLE: 0.05 Item: Blue Ocean 30\" RH76UC Stainless Steel Un...\u001b[0m\n",
      "\u001b[91m106: Guess: $109.00 Truth: $420.00 Error: $311.00 SLE: 1.80 Item: Friendship Lamp® Modern Design - Handmad...\u001b[0m\n",
      "\u001b[91m107: Guess: $174.99 Truth: $349.99 Error: $175.00 SLE: 0.48 Item: Broan-NuTone 30-inch Wall-Mount Converti...\u001b[0m\n",
      "\u001b[91m108: Guess: $164.99 Truth: $42.95 Error: $122.04 SLE: 1.77 Item: Dazzle Video Creator Plus HD [OLD VERSIO...\u001b[0m\n",
      "\u001b[92m109: Guess: $10.99 Truth: $9.10 Error: $1.89 SLE: 0.03 Item: Disney Pixar Incredibles 2 Wooden Pencil...\u001b[0m\n",
      "\u001b[92m110: Guess: $22.99 Truth: $21.99 Error: $1.00 SLE: 0.00 Item: Pinball HD\u001b[0m\n",
      "\u001b[92m111: Guess: $47.22 Truth: $55.25 Error: $8.03 SLE: 0.02 Item: Langrisser I & II (PS4)\u001b[0m\n",
      "\u001b[92m112: Guess: $76.43 Truth: $42.91 Error: $33.52 SLE: 0.32 Item: ForeverPRO Y707453 8 Inch Adapter Ring f...\u001b[0m\n",
      "\u001b[92m113: Guess: $49.00 Truth: $52.99 Error: $3.99 SLE: 0.01 Item: Sterling Silver 925 Oval Moonstone 12x16...\u001b[0m\n",
      "\u001b[92m114: Guess: $219.99 Truth: $189.99 Error: $30.00 SLE: 0.02 Item: New SteelSeries Apex Pro TKL 2023 Ed.- W...\u001b[0m\n",
      "\u001b[92m115: Guess: $49.99 Truth: $19.99 Error: $30.00 SLE: 0.79 Item: Plant Therapy Pink Himalayan Salt Inhale...\u001b[0m\n",
      "\u001b[92m116: Guess: $99.00 Truth: $80.00 Error: $19.00 SLE: 0.04 Item: IstanbulArtWorkshop Hand Painted Decorat...\u001b[0m\n",
      "\u001b[92m117: Guess: $139.98 Truth: $99.99 Error: $39.99 SLE: 0.11 Item: McAfee Live Safe | Unlimited Devices | A...\u001b[0m\n",
      "\u001b[91m118: Guess: $249.99 Truth: $484.40 Error: $234.41 SLE: 0.44 Item: New Air Chest Freezer - 7 Cubic Feet Rea...\u001b[0m\n",
      "\u001b[91m119: Guess: $109.00 Truth: $378.00 Error: $269.00 SLE: 1.53 Item: Friendship Lamp® Classic Design - Handma...\u001b[0m\n",
      "\u001b[92m120: Guess: $109.00 Truth: $106.00 Error: $3.00 SLE: 0.00 Item: Silver Knots Chain Bracelet, 925 Sterlin...\u001b[0m\n",
      "\u001b[93m121: Guess: $67.88 Truth: $26.99 Error: $40.89 SLE: 0.81 Item: ICEPURE ADQ747935 Replacement for LG LT1...\u001b[0m\n",
      "\u001b[92m122: Guess: $209.00 Truth: $228.99 Error: $19.99 SLE: 0.01 Item: Frigidaire 316462866 Clock Timer for Ran...\u001b[0m\n",
      "\u001b[91m123: Guess: $209.00 Truth: $39.00 Error: $170.00 SLE: 2.75 Item: Frigidaire PCK4200 LP Conversion Kit for...\u001b[0m\n",
      "\u001b[92m124: Guess: $349.99 Truth: $339.99 Error: $10.00 SLE: 0.00 Item: IKTCH Upgrated 36\"Under Cabinet Range Ho...\u001b[0m\n",
      "\u001b[92m125: Guess: $5.99 Truth: $3.65 Error: $2.34 SLE: 0.17 Item: DentalSmile Amber 1/4 Elastic Rubber Ban...\u001b[0m\n",
      "\u001b[92m126: Guess: $47.22 Truth: $15.27 Error: $31.95 SLE: 1.18 Item: Penny Racers Party: Turbo-Q Speedway - N...\u001b[0m\n",
      "\u001b[93m127: Guess: $174.99 Truth: $289.98 Error: $114.99 SLE: 0.25 Item: Pokemon XD: Gale of Darkness\u001b[0m\n",
      "\u001b[92m128: Guess: $10.99 Truth: $1.95 Error: $9.04 SLE: 1.97 Item: F1 2001 (Jewel Case) - PC\u001b[0m\n",
      "\u001b[93m129: Guess: $65.98 Truth: $124.94 Error: $58.96 SLE: 0.40 Item: Injustice 2 Ultimate Edition - PlayStati...\u001b[0m\n",
      "\u001b[91m130: Guess: $169.99 Truth: $85.00 Error: $84.99 SLE: 0.47 Item: Large Weaving Loom for Beginner or Profe...\u001b[0m\n",
      "\u001b[92m131: Guess: $66.47 Truth: $88.00 Error: $21.53 SLE: 0.08 Item: H&H 12-3/4\" Long Heating Element Electri...\u001b[0m\n",
      "\u001b[91m132: Guess: $726.65 Truth: $157.49 Error: $569.16 SLE: 2.32 Item: Manitowoc Ice 040001766 Evaporator Frame...\u001b[0m\n",
      "\u001b[91m133: Guess: $49.99 Truth: $179.99 Error: $130.00 SLE: 1.60 Item: Smart Kid's: Gameclub - Nintendo DS\u001b[0m\n",
      "\u001b[92m134: Guess: $0.99 Truth: $25.00 Error: $24.01 SLE: 6.60 Item: Talk Mohawk Counting\u001b[0m\n",
      "\u001b[92m135: Guess: $219.47 Truth: $224.99 Error: $5.52 SLE: 0.00 Item: COWSAR Beverage Refrigerator 57 Can Capa...\u001b[0m\n",
      "\u001b[92m136: Guess: $127.22 Truth: $151.91 Error: $24.69 SLE: 0.03 Item: Cleveland KE53838-21 Transformer 240P/16...\u001b[0m\n",
      "\u001b[92m137: Guess: $49.99 Truth: $89.00 Error: $39.01 SLE: 0.32 Item: BINBOK VR Head Strap with Dual Magnetic ...\u001b[0m\n",
      "\u001b[91m138: Guess: $154.65 Truth: $599.99 Error: $445.34 SLE: 1.83 Item: Mighty Thor Omnibus HC Jack Kirby (Direc...\u001b[0m\n",
      "\u001b[92m139: Guess: $315.00 Truth: $300.00 Error: $15.00 SLE: 0.00 Item: \"2 Reale\" Pirate Coin Reproduction Cob P...\u001b[0m\n",
      "\u001b[92m140: Guess: $47.99 Truth: $51.99 Error: $4.00 SLE: 0.01 Item: Norton Internet Security 2013 - 1 User /...\u001b[0m\n",
      "\u001b[92m141: Guess: $13.99 Truth: $8.00 Error: $5.99 SLE: 0.26 Item: Thanksgiving Sticker Labels - Autumn Fal...\u001b[0m\n",
      "\u001b[91m142: Guess: $1,790.47 Truth: $749.99 Error: $1,040.48 SLE: 0.76 Item: 24 Inch Natural Gas Oven, GASLAND Chef P...\u001b[0m\n",
      "\u001b[92m143: Guess: $15.99 Truth: $26.99 Error: $11.00 SLE: 0.25 Item: Hair Stylist Christmas Gift Glass Orname...\u001b[0m\n",
      "\u001b[92m144: Guess: $219.00 Truth: $199.00 Error: $20.00 SLE: 0.01 Item: InTheTime 12-inch Copper Wall Clock Roun...\u001b[0m\n",
      "\u001b[93m145: Guess: $127.99 Truth: $62.00 Error: $65.99 SLE: 0.51 Item: Vintage distressed genuine leather Dell ...\u001b[0m\n",
      "\u001b[92m146: Guess: $127.22 Truth: $136.83 Error: $9.61 SLE: 0.01 Item: Frymaster 8121286 Natural Gas Orifice It...\u001b[0m\n",
      "\u001b[93m147: Guess: $118.00 Truth: $159.99 Error: $41.99 SLE: 0.09 Item: Dainty Emerald Necklace by the Yard\u001b[0m\n",
      "\u001b[91m148: Guess: $66.47 Truth: $229.95 Error: $163.48 SLE: 1.51 Item: Bosch Dishwasher Heat Pump 669135 006691...\u001b[0m\n",
      "\u001b[91m149: Guess: $127.99 Truth: $17.99 Error: $110.00 SLE: 3.67 Item: AMAZINGLY NEW SAT PREP & ACT PREP - NO N...\u001b[0m\n",
      "\u001b[92m150: Guess: $69.95 Truth: $57.95 Error: $12.00 SLE: 0.03 Item: Movavi Screen Recorder 2022 for Mac Pers...\u001b[0m\n",
      "\u001b[92m151: Guess: $22.50 Truth: $5.99 Error: $16.51 SLE: 1.47 Item: Homefront: The Revolution - Aftermath [O...\u001b[0m\n",
      "\u001b[92m152: Guess: $69.99 Truth: $41.00 Error: $28.99 SLE: 0.28 Item: .925 Sterling Silver Miniature Pinscher ...\u001b[0m\n",
      "\u001b[92m153: Guess: $69.99 Truth: $69.99 Error: $0.00 SLE: 0.00 Item: Neptune Concealment IWB Kydex Holster fo...\u001b[0m\n",
      "\u001b[92m154: Guess: $22.99 Truth: $14.69 Error: $8.30 SLE: 0.18 Item: The Learning Company - Oregon Trail 5th ...\u001b[0m\n",
      "\u001b[92m155: Guess: $65.98 Truth: $71.79 Error: $5.81 SLE: 0.01 Item: Microsoft Xbox One Night Ops Camo Wirele...\u001b[0m\n",
      "\u001b[93m156: Guess: $118.00 Truth: $42.90 Error: $75.10 SLE: 0.99 Item: Caprixus 925 Sterling Silver Natural Squ...\u001b[0m\n",
      "\u001b[91m157: Guess: $276.00 Truth: $69.01 Error: $206.99 SLE: 1.89 Item: Nada Chair Back-Up with CushShins Back S...\u001b[0m\n",
      "\u001b[93m158: Guess: $47.22 Truth: $94.75 Error: $47.53 SLE: 0.47 Item: GE Appliances WD19X25187 Dishwasher Drai...\u001b[0m\n",
      "\u001b[93m159: Guess: $139.65 Truth: $74.41 Error: $65.24 SLE: 0.39 Item: WEN 56035-047 Construction Zone Plate Co...\u001b[0m\n",
      "\u001b[92m160: Guess: $0.99 Truth: $9.99 Error: $9.00 SLE: 2.92 Item: Ring Pops & Rock Candy Maker - Kids Rain...\u001b[0m\n",
      "\u001b[93m161: Guess: $239.00 Truth: $395.00 Error: $156.00 SLE: 0.25 Item: Solitaire Diamond Bracelet Solid White G...\u001b[0m\n",
      "\u001b[92m162: Guess: $11.99 Truth: $5.99 Error: $6.00 SLE: 0.38 Item: Fall Leaves - Scented All Natural Soy Wa...\u001b[0m\n",
      "\u001b[93m163: Guess: $109.00 Truth: $65.00 Error: $44.00 SLE: 0.26 Item: Personalized Wood Letter | Wedding Guest...\u001b[0m\n",
      "\u001b[91m164: Guess: $139.98 Truth: $268.97 Error: $128.99 SLE: 0.42 Item: Nintendo 2DS - Legend of Zelda Ocarina o...\u001b[0m\n",
      "\u001b[92m165: Guess: $47.99 Truth: $84.52 Error: $36.53 SLE: 0.31 Item: NZYMD Handheld Game Console Portable Vid...\u001b[0m\n",
      "\u001b[91m166: Guess: $110.47 Truth: $215.00 Error: $104.53 SLE: 0.44 Item: Avanti SAR1702N3S Refrigerator with 1.7 ...\u001b[0m\n",
      "\u001b[92m167: Guess: $76.99 Truth: $40.18 Error: $36.81 SLE: 0.41 Item: SoB 4 Pack MP22YA Electric Range Burner ...\u001b[0m\n",
      "\u001b[91m168: Guess: $174.99 Truth: $295.00 Error: $120.01 SLE: 0.27 Item: Marble Lazy Susan Turntable Rotating Tra...\u001b[0m\n",
      "\u001b[92m169: Guess: $22.22 Truth: $16.94 Error: $5.28 SLE: 0.07 Item: Cokem International Ltd. New Super Lucky...\u001b[0m\n",
      "\u001b[92m170: Guess: $66.47 Truth: $82.19 Error: $15.72 SLE: 0.04 Item: 4391960 Dryer Heating Element & 279816 T...\u001b[0m\n",
      "\u001b[93m171: Guess: $147.65 Truth: $225.00 Error: $77.35 SLE: 0.18 Item: Waring 502977 Blending Assembly\u001b[0m\n",
      "\u001b[92m172: Guess: $31.99 Truth: $27.00 Error: $4.99 SLE: 0.03 Item: Laissez Les Bon Temps Rouler\"Let The Goo...\u001b[0m\n",
      "\u001b[92m173: Guess: $134.99 Truth: $98.00 Error: $36.99 SLE: 0.10 Item: WISDOM Beaded Necklaces for Men, Healing...\u001b[0m\n",
      "\u001b[93m174: Guess: $219.98 Truth: $289.99 Error: $70.01 SLE: 0.08 Item: Xbox Series S - Holiday Console\u001b[0m\n",
      "\u001b[91m175: Guess: $219.98 Truth: $642.00 Error: $422.02 SLE: 1.14 Item: World Map - Metal Wall Art Home Decor - ...\u001b[0m\n",
      "\u001b[91m176: Guess: $239.00 Truth: $49.99 Error: $189.01 SLE: 2.40 Item: Fox Chase Organizer - 20 Custom Colors, ...\u001b[0m\n",
      "\u001b[92m177: Guess: $47.99 Truth: $28.99 Error: $19.00 SLE: 0.24 Item: 3-Pack Replacement for Amana ARB8057CSR ...\u001b[0m\n",
      "\u001b[93m178: Guess: $128.66 Truth: $183.23 Error: $54.57 SLE: 0.12 Item: LG AJH72949004 Genuine OEM Sump and Moto...\u001b[0m\n",
      "\u001b[92m179: Guess: $29.00 Truth: $16.00 Error: $13.00 SLE: 0.32 Item: Cartilage Earring CZ - Tragus Earring Ho...\u001b[0m\n",
      "\u001b[92m180: Guess: $69.99 Truth: $51.81 Error: $18.18 SLE: 0.09 Item: Gotcha Go-Tcha Ranger LED Touch Screen f...\u001b[0m\n",
      "\u001b[92m181: Guess: $29.00 Truth: $22.95 Error: $6.05 SLE: 0.05 Item: 50 and Fabulous Birthday Invitation, 50 ...\u001b[0m\n",
      "\u001b[91m182: Guess: $349.00 Truth: $239.99 Error: $109.01 SLE: 0.14 Item: Navy - Handmade Wooden American Flag - M...\u001b[0m\n",
      "\u001b[92m183: Guess: $66.47 Truth: $98.00 Error: $31.53 SLE: 0.15 Item: Pac-Man World\u001b[0m\n",
      "\u001b[93m184: Guess: $174.99 Truth: $237.99 Error: $63.00 SLE: 0.09 Item: Xbox 360 250GB Halo Reach Console Bundle\u001b[0m\n",
      "\u001b[92m185: Guess: $139.98 Truth: $159.00 Error: $19.02 SLE: 0.02 Item: USA Framed Wall Map With National Parks ...\u001b[0m\n",
      "\u001b[93m186: Guess: $66.47 Truth: $18.85 Error: $47.62 SLE: 1.50 Item: Minority Report GBA\u001b[0m\n",
      "\u001b[91m187: Guess: $22.22 Truth: $107.60 Error: $85.38 SLE: 2.38 Item: Star Wars: The Clone Wars - Republic Her...\u001b[0m\n",
      "\u001b[92m188: Guess: $49.99 Truth: $68.89 Error: $18.90 SLE: 0.10 Item: Hfuear Head Strap with 10000mAh Battery ...\u001b[0m\n",
      "\u001b[91m189: Guess: $83.99 Truth: $259.00 Error: $175.01 SLE: 1.25 Item: SEGA PUTT & Putter Miniature Golf Game G...\u001b[0m\n",
      "\u001b[93m190: Guess: $47.98 Truth: $91.30 Error: $43.32 SLE: 0.40 Item: Spider-Man\u001b[0m\n",
      "\u001b[91m191: Guess: $32.00 Truth: $135.00 Error: $103.00 SLE: 2.01 Item: Italian Ceramic Fruits decoration for Ki...\u001b[0m\n",
      "\u001b[92m192: Guess: $10.99 Truth: $9.99 Error: $1.00 SLE: 0.01 Item: Kuissential SlickDrip Pour Over Coffee D...\u001b[0m\n",
      "\u001b[92m193: Guess: $22.99 Truth: $44.95 Error: $21.96 SLE: 0.42 Item: Hallelujah Acres Barley Max Mint\u001b[0m\n",
      "\u001b[92m194: Guess: $219.98 Truth: $256.87 Error: $36.89 SLE: 0.02 Item: Nanuk 938 Waterproof Hard Case with Whee...\u001b[0m\n",
      "\u001b[91m195: Guess: $249.99 Truth: $870.76 Error: $620.77 SLE: 1.55 Item: Windster 36-Inch HI Series Residential S...\u001b[0m\n",
      "\u001b[92m196: Guess: $139.98 Truth: $120.99 Error: $18.99 SLE: 0.02 Item: Nativity Scene Applique Arpillera Skirt ...\u001b[0m\n",
      "\u001b[92m197: Guess: $219.47 Truth: $201.99 Error: $17.48 SLE: 0.01 Item: QTYANCY Electric Cooktop, 24 Inch Electr...\u001b[0m\n",
      "\u001b[93m198: Guess: $83.99 Truth: $35.89 Error: $48.10 SLE: 0.70 Item: R0131577 Refrigerator Defrost Timer Kit ...\u001b[0m\n",
      "\u001b[93m199: Guess: $136.00 Truth: $214.94 Error: $78.94 SLE: 0.21 Item: GENUINE Frigidaire 5303918286 Refrigerat...\u001b[0m\n",
      "\u001b[92m200: Guess: $49.95 Truth: $28.99 Error: $20.96 SLE: 0.28 Item: Fire Block - Fire Retardant 32 oz\u001b[0m\n",
      "\u001b[92m201: Guess: $49.00 Truth: $79.00 Error: $30.00 SLE: 0.22 Item: 4x8 Personalized Oval Metal Sign and Bra...\u001b[0m\n",
      "\u001b[92m202: Guess: $66.47 Truth: $99.99 Error: $33.52 SLE: 0.16 Item: MAGIX Movie Edit Pro 2016 Plus [Download...\u001b[0m\n",
      "\u001b[93m203: Guess: $47.22 Truth: $94.95 Error: $47.73 SLE: 0.47 Item: 106 Part# 106 - Tray Instrument C-Tub Pl...\u001b[0m\n",
      "\u001b[91m204: Guess: $174.99 Truth: $70.99 Error: $104.00 SLE: 0.80 Item: Gilmore Girls: The Complete Series (Seas...\u001b[0m\n",
      "\u001b[92m205: Guess: $219.98 Truth: $191.42 Error: $28.56 SLE: 0.02 Item: EPOS Audio PC Gaming Audio Bundle with H...\u001b[0m\n",
      "\u001b[92m206: Guess: $69.99 Truth: $51.00 Error: $18.99 SLE: 0.10 Item: Dynamic Auto Painter [Download]\u001b[0m\n",
      "\u001b[93m207: Guess: $109.00 Truth: $188.00 Error: $79.00 SLE: 0.29 Item: Ramblewood high efficiency 2 burner gas ...\u001b[0m\n",
      "\u001b[92m208: Guess: $109.00 Truth: $87.00 Error: $22.00 SLE: 0.05 Item: Men gladiator handmade leather sandals G...\u001b[0m\n",
      "\u001b[92m209: Guess: $47.00 Truth: $82.99 Error: $35.99 SLE: 0.31 Item: Designs by Nature Gems Handmade Women’s ...\u001b[0m\n",
      "\u001b[91m210: Guess: $262.47 Truth: $110.99 Error: $151.48 SLE: 0.73 Item: Herringbone Reclaimed Wooded Framed Mirr...\u001b[0m\n",
      "\u001b[92m211: Guess: $128.66 Truth: $146.99 Error: $18.33 SLE: 0.02 Item: ASUS ROG Chakram Wireless Aura Sync RGB ...\u001b[0m\n",
      "\u001b[92m212: Guess: $76.99 Truth: $67.75 Error: $9.24 SLE: 0.02 Item: 8053458 4 Pack of Gas Range Burner Cooki...\u001b[0m\n",
      "\u001b[92m213: Guess: $66.47 Truth: $35.22 Error: $31.25 SLE: 0.39 Item: Whitehaus WH200-BN 3-1/2-Inch Waste Disp...\u001b[0m\n",
      "\u001b[91m214: Guess: $134.32 Truth: $321.05 Error: $186.73 SLE: 0.75 Item: Whirlpool 71001799 Oven Control Board\u001b[0m\n",
      "\u001b[91m215: Guess: $139.98 Truth: $289.00 Error: $149.02 SLE: 0.52 Item: PlayStation 2 Slim Console - Silver\u001b[0m\n",
      "\u001b[93m216: Guess: $18.39 Truth: $87.54 Error: $69.15 SLE: 2.31 Item: Whirlpool 9757218 Valve Burner\u001b[0m\n",
      "\u001b[93m217: Guess: $127.22 Truth: $194.95 Error: $67.73 SLE: 0.18 Item: Wii Fit Plus with Balance Board\u001b[0m\n",
      "\u001b[91m218: Guess: $118.99 Truth: $599.00 Error: $480.01 SLE: 2.59 Item: Bench Cushions, Floor Seating, Floor Cus...\u001b[0m\n",
      "\u001b[91m219: Guess: $139.95 Truth: $57.00 Error: $82.95 SLE: 0.79 Item: Blessed Our Lady of Perpetual Help Ortho...\u001b[0m\n",
      "\u001b[92m220: Guess: $49.99 Truth: $43.45 Error: $6.54 SLE: 0.02 Item: Mythical Winged Dragon Guarding Castle E...\u001b[0m\n",
      "\u001b[92m221: Guess: $127.22 Truth: $103.02 Error: $24.20 SLE: 0.04 Item: Super Robot Wars OG INFINITE BATTLE & Su...\u001b[0m\n",
      "\u001b[92m222: Guess: $49.00 Truth: $41.95 Error: $7.05 SLE: 0.02 Item: NuSci Green Tea Extract Bulk Powder Stan...\u001b[0m\n",
      "\u001b[93m223: Guess: $149.00 Truth: $85.00 Error: $64.00 SLE: 0.31 Item: Leather Customizable Rifle Gun Sling-Pad...\u001b[0m\n",
      "\u001b[93m224: Guess: $127.99 Truth: $194.99 Error: $67.00 SLE: 0.17 Item: Keychron Q3 TKL Layout Hot-Swappable Wir...\u001b[0m\n",
      "\u001b[92m225: Guess: $174.00 Truth: $175.00 Error: $1.00 SLE: 0.00 Item: CAROLINA LEG CO. Maple Tapered Dining Le...\u001b[0m\n",
      "\u001b[92m226: Guess: $139.65 Truth: $177.00 Error: $37.35 SLE: 0.06 Item: Viqua QL-410 Lamp and Sleeve Bundle VH41...\u001b[0m\n",
      "\u001b[91m227: Guess: $209.00 Truth: $51.93 Error: $157.07 SLE: 1.90 Item: Zombies Ate My Neighbors\u001b[0m\n",
      "\u001b[93m228: Guess: $65.69 Truth: $124.35 Error: $58.66 SLE: 0.40 Item: Persona 5 20th Anniversary Edition Delux...\u001b[0m\n",
      "\u001b[93m229: Guess: $22.99 Truth: $84.00 Error: $61.01 SLE: 1.60 Item: Photo guestbook Circle Light blue Guest ...\u001b[0m\n",
      "\u001b[92m230: Guess: $52.74 Truth: $42.95 Error: $9.79 SLE: 0.04 Item: PS2002869 Replacement White Fan Rocker S...\u001b[0m\n",
      "\u001b[92m231: Guess: $127.99 Truth: $161.99 Error: $34.00 SLE: 0.05 Item: keydous NJ81 Wireless Mechanical Keyboar...\u001b[0m\n",
      "\u001b[92m232: Guess: $174.00 Truth: $146.00 Error: $28.00 SLE: 0.03 Item: CERAMICHE D'ARTE PARRINI - Italian Ceram...\u001b[0m\n",
      "\u001b[92m233: Guess: $66.47 Truth: $67.00 Error: $0.53 SLE: 0.00 Item: Depend Fit-Flex Small/Medium Maximum Abs...\u001b[0m\n",
      "\u001b[92m234: Guess: $47.99 Truth: $76.52 Error: $28.53 SLE: 0.21 Item: Frigidaire 5304458312 Handle Unit, Black\u001b[0m\n",
      "\u001b[91m235: Guess: $209.00 Truth: $449.97 Error: $240.97 SLE: 0.58 Item: Mad Catz, Saitek, Tritton MadCatz Music ...\u001b[0m\n",
      "\u001b[91m236: Guess: $276.99 Truth: $624.89 Error: $347.90 SLE: 0.66 Item: Frigidaire FGEC3068UB Gallery 30-in. Ele...\u001b[0m\n",
      "\u001b[91m237: Guess: $66.47 Truth: $163.11 Error: $96.64 SLE: 0.79 Item: Samsung DD82-01247A Main Control Board\u001b[0m\n",
      "\u001b[92m238: Guess: $22.99 Truth: $29.99 Error: $7.00 SLE: 0.07 Item: H P Sports Headphones Wired Gaming Earho...\u001b[0m\n",
      "\u001b[93m239: Guess: $219.00 Truth: $286.50 Error: $67.50 SLE: 0.07 Item: Empava 36 in. 380 CFM Wall Mount Range H...\u001b[0m\n",
      "\u001b[93m240: Guess: $127.99 Truth: $209.71 Error: $81.72 SLE: 0.24 Item: Square Enix DC Comics Variant Play Arts ...\u001b[0m\n",
      "\u001b[91m241: Guess: $47.22 Truth: $128.22 Error: $81.00 SLE: 0.97 Item: Hubbell AD2000W1 Adaptive Dual Technolog...\u001b[0m\n",
      "\u001b[91m242: Guess: $47.99 Truth: $189.00 Error: $141.01 SLE: 1.84 Item: CERAMICHE D'ARTE PARRINI - Italian Ceram...\u001b[0m\n",
      "\u001b[92m243: Guess: $139.95 Truth: $149.95 Error: $10.00 SLE: 0.00 Item: Wood Cremation Urn - Rosewood Bookshelf\u001b[0m\n",
      "\u001b[93m244: Guess: $146.99 Truth: $225.98 Error: $78.99 SLE: 0.18 Item: SteelSeries Arctis 7 - Lossless Wireless...\u001b[0m\n",
      "\u001b[93m245: Guess: $83.00 Truth: $33.00 Error: $50.00 SLE: 0.82 Item: Sterling Silver Wide Link Choker Necklac...\u001b[0m\n",
      "\u001b[92m246: Guess: $8.22 Truth: $29.15 Error: $20.93 SLE: 1.40 Item: Chlor Warm Honey Lemon Sp Size 6z Chlora...\u001b[0m\n",
      "\u001b[92m247: Guess: $66.47 Truth: $27.95 Error: $38.52 SLE: 0.72 Item: BOSCH 00600026 Dishwasher Control Panel ...\u001b[0m\n",
      "\u001b[92m248: Guess: $49.99 Truth: $69.99 Error: $20.00 SLE: 0.11 Item: EASARS Wireless Cat Ear Headphones, Pink...\u001b[0m\n",
      "\u001b[93m249: Guess: $66.47 Truth: $118.95 Error: $52.48 SLE: 0.33 Item: LG Electronics 4838JA2002A Refrigerator ...\u001b[0m\n",
      "\u001b[92m250: Guess: $49.99 Truth: $23.99 Error: $26.00 SLE: 0.51 Item: ZFY PS4 Game Controller, Bluetooth Wirel...\u001b[0m\n"
     ]
    },
    {
     "data": {
      "image/png": "[encoded data removed]",
      "text/plain": [
       "<Figure size 1200x800 with 1 Axes>"
      ]
     },
     "metadata": {},
     "output_type": "display_data"
    }
   ],
   "source": [
    "Tester.test(gpt_fine_tuned, test)"
   ]
  },
  {
   "cell_type": "code",
   "execution_count": null,
   "metadata": {},
   "outputs": [],
   "source": []
  }
 ],
 "metadata": {
  "kernelspec": {
   "display_name": "Python 3",
   "language": "python",
   "name": "python3"
  },
  "language_info": {
   "codemirror_mode": {
    "name": "ipython",
    "version": 3
   },
   "file_extension": ".py",
   "mimetype": "text/x-python",
   "name": "python",
   "nbconvert_exporter": "python",
   "pygments_lexer": "ipython3",
   "version": "3.11.10"
  }
 },
 "nbformat": 4,
 "nbformat_minor": 2
}
